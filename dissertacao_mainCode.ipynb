{
 "cells": [
  {
   "cell_type": "markdown",
   "metadata": {},
   "source": [
    "# Fit-Spark Classification"
   ]
  },
  {
   "cell_type": "code",
   "execution_count": 1,
   "metadata": {
    "jupyter": {
     "source_hidden": true
    },
    "tags": []
   },
   "outputs": [],
   "source": [
    "## Spark Lib\n",
    "import findspark\n",
    "findspark.init()\n",
    "\n",
    "import pyspark\n",
    "from pyspark.sql import SparkSession\n",
    "from pyspark.ml import Pipeline\n",
    "from pyspark.ml.classification import DecisionTreeClassifier\n",
    "from pyspark.ml.feature import StringIndexer, VectorIndexer\n",
    "from pyspark.ml.evaluation import MulticlassClassificationEvaluator\n",
    "from pyspark.mllib.util import MLUtils\n",
    "\n",
    "from pyspark.ml.tuning import ParamGridBuilder, TrainValidationSplit\n",
    "from pyspark.ml.tuning import ParamGridBuilder, CrossValidator\n",
    "from pyspark.ml.evaluation import BinaryClassificationEvaluator\n",
    "from pyspark.mllib.evaluation import BinaryClassificationMetrics\n",
    "\n",
    "\n",
    "from pyspark.ml.feature import StringIndexer, IndexToString\n",
    "from pyspark.ml.feature import VectorAssembler, VectorIndexer\n",
    "from pyspark.ml.classification import MultilayerPerceptronClassifier\n",
    "from pyspark.ml.classification import NaiveBayes\n",
    "from pyspark.ml.classification import LogisticRegression\n",
    "from pyspark.ml.classification import LinearSVC, OneVsRest\n",
    "from pyspark.ml.classification import RandomForestClassifier\n",
    "from pyspark.ml.classification import DecisionTreeClassifier\n",
    "from pyspark.ml.evaluation import MulticlassClassificationEvaluator\n",
    "\n",
    "import pyspark.sql.functions as F\n",
    "from pyspark.mllib.evaluation import MulticlassMetrics\n",
    "from pyspark.sql.types import FloatType\n",
    "\n",
    "from pyspark.ml.linalg import Vectors\n",
    "from pyspark.mllib.util import MLUtils\n",
    "\n",
    "\n",
    "import time\n",
    "start_time = time.time()\n",
    "%matplotlib inline"
   ]
  },
  {
   "cell_type": "markdown",
   "metadata": {},
   "source": [
    "# Spark Session"
   ]
  },
  {
   "cell_type": "code",
   "execution_count": 2,
   "metadata": {
    "jupyter": {
     "source_hidden": true
    },
    "tags": []
   },
   "outputs": [],
   "source": [
    "spark = SparkSession.builder \\\n",
    "        .master(\"local[8]\") \\\n",
    "        .appName(\"MachineLearningIris\") \\\n",
    "        .getOrCreate()"
   ]
  },
  {
   "cell_type": "markdown",
   "metadata": {},
   "source": [
    "# Classes"
   ]
  },
  {
   "cell_type": "code",
   "execution_count": 3,
   "metadata": {
    "jupyter": {
     "source_hidden": true
    },
    "tags": []
   },
   "outputs": [],
   "source": [
    "class Resultados:\n",
    "    def __init__(self, algoritmo, acuracia, tempo, precisao, fpositivos, recall, parametroA, parametroB):\n",
    "        self.algoritmo = algoritmo \n",
    "        self.acuracia = acuracia\n",
    "        self.tempo = tempo\n",
    "        self.precisao = precisao\n",
    "        self.fpositivos = fpositivos\n",
    "        self.recall = recall\n",
    "        self.parametroA = parametroA\n",
    "        self.parametroB = parametroB\n",
    "        \n",
    "\n",
    "        \n",
    "        \n",
    "class Naive:\n",
    "    def __init__(self, smoothing):\n",
    "        self.smoothing = smoothing \n",
    "        \n",
    "class SVM:\n",
    "    def __init__(self, maxIter, regParam):\n",
    "        self.maxIter = maxIter \n",
    "        self.regParam = regParam\n",
    "        \n",
    "class Tree:\n",
    "    def __init__(self, maxDepth, checkpointInterval):\n",
    "        self.maxDepth = maxDepth \n",
    "        self.checkpointInterval = checkpointInterval"
   ]
  },
  {
   "cell_type": "markdown",
   "metadata": {},
   "source": [
    "# Funções"
   ]
  },
  {
   "cell_type": "markdown",
   "metadata": {},
   "source": [
    "## Naive Bayes"
   ]
  },
  {
   "cell_type": "code",
   "execution_count": 4,
   "metadata": {
    "scrolled": true,
    "tags": []
   },
   "outputs": [],
   "source": [
    "def naive(train, test, param):\n",
    "    \n",
    "    \n",
    "    best = []\n",
    "    \n",
    "    timeList = []\n",
    "    \n",
    "    resul = []\n",
    "    \n",
    "    start_time_total =  time.time()\n",
    "\n",
    "    \n",
    "    for x in param.smoothing:\n",
    "            \n",
    "        \n",
    "        start_time =  time.time()\n",
    "        \n",
    "    \n",
    "        trainer = NaiveBayes(smoothing=x, modelType=\"multinomial\")    \n",
    "\n",
    "        evaluator = MulticlassClassificationEvaluator(labelCol=\"label\", predictionCol=\"prediction\",\\\n",
    "                metricName=\"accuracy\")\n",
    "\n",
    "        model = trainer.fit(train)\n",
    "\n",
    "        result_nb = model.transform(test)\n",
    "\n",
    "        accuracy_nb = evaluator.evaluate(result_nb) * 100\n",
    "                \n",
    "        timeFinal = time.time() - start_time\n",
    "        \n",
    "        timeList.append(timeFinal)\n",
    "        \n",
    "        print(\"Algorithm: Naive Bayes | Accuracy = %3.1f %% | Time = %3.1f s | Smoothing = %3.1f\" % (accuracy_nb, timeFinal, x))\n",
    "    \n",
    "\n",
    "        # Matriz de Confusão\n",
    "        preds_and_labels = result_nb.select(['prediction','label']).withColumn('label', F.col('label').cast(FloatType())).orderBy('prediction')\n",
    "        preds_and_labels = preds_and_labels.select(['prediction','label'])\n",
    "        metrics = MulticlassMetrics(preds_and_labels.rdd.map(tuple))\n",
    "        \n",
    "        \n",
    "        prec = metrics.precision(1.0) *100\n",
    "        fp = metrics.falsePositiveRate(1.0)*100\n",
    "        rec =  metrics.recall(1.0) *100\n",
    "        \n",
    "        resul.append(Resultados('naive', accuracy_nb, timeFinal, prec, fp, rec, x, None))\n",
    "        \n",
    "        best.append(accuracy_nb)\n",
    "    \n",
    "    \n",
    "    timeTotal = time.time() - start_time_total\n",
    "\n",
    "    \n",
    "    print(\"Tempo Médio: %3.1f s\" % (sum(timeList)/len(timeList)))\n",
    "    print(\"Tempo Total: %3.1f s\" % timeTotal)\n",
    "\n",
    "        \n",
    "    \n",
    "        \n",
    "    \n",
    "    #return max(best)\n",
    "    return resul\n",
    "    \n",
    "    \n",
    "\n"
   ]
  },
  {
   "cell_type": "markdown",
   "metadata": {},
   "source": [
    "## SVM"
   ]
  },
  {
   "cell_type": "code",
   "execution_count": 5,
   "metadata": {
    "jupyter": {
     "source_hidden": true
    },
    "tags": []
   },
   "outputs": [],
   "source": [
    "def svm(train, test, param):\n",
    "    \n",
    "    best = []\n",
    "\n",
    "    timeList = []\n",
    "\n",
    "    resul = []\n",
    "\n",
    "    start_time_total =  time.time()\n",
    "    \n",
    "    for x in param.maxIter:\n",
    "        for y in param.regParam:\n",
    "            \n",
    "            start_time =  time.time()\n",
    "\n",
    "    \n",
    "            trainer = LinearSVC(featuresCol='features', labelCol='label',\\\n",
    "                            maxIter=x, regParam=y)\n",
    "\n",
    "            ovr_trainer = OneVsRest(classifier=trainer)\n",
    "\n",
    "\n",
    "            model = ovr_trainer.fit(train)\n",
    "\n",
    "            result_svm = model.transform(test)\n",
    "\n",
    "\n",
    "            evaluator = MulticlassClassificationEvaluator(labelCol=\"label\", predictionCol=\"prediction\",\\\n",
    "                    metricName=\"accuracy\")\n",
    "\n",
    "            accuracy_svm = evaluator.evaluate(result_svm) * 100\n",
    "            \n",
    "            timeFinal = time.time() - start_time\n",
    "\n",
    "            timeList.append(timeFinal)\n",
    "\n",
    "            print(\"Algorithm: SVM | Accuracy = %3.1f %% | Time = %3.1f s | maxIter = %3.1f | regParam = %3.1f\" % (accuracy_svm, timeFinal, x, y))\n",
    "\n",
    "            # Matriz de Confusão\n",
    "            preds_and_labels = result_svm.select(['prediction','label']).withColumn('label', F.col('label').cast(FloatType())).orderBy('prediction')\n",
    "            preds_and_labels = preds_and_labels.select(['prediction','label'])\n",
    "            metrics = MulticlassMetrics(preds_and_labels.rdd.map(tuple))\n",
    "        \n",
    "        \n",
    "            prec = metrics.precision(1.0) *100\n",
    "            fp = metrics.falsePositiveRate(1.0)*100\n",
    "            rec =  metrics.recall(1.0) *100\n",
    "            \n",
    "            \n",
    "            resul.append(Resultados('svm', accuracy_svm, timeFinal, prec, fp, rec, x, y))\n",
    "\n",
    "            \n",
    "            best.append(accuracy_svm)\n",
    "    \n",
    "    timeTotal = time.time() - start_time_total\n",
    "            \n",
    "    print(\"Tempo Médio: %3.1f s\" % (sum(timeList)/len(timeList)))\n",
    "    print(\"Tempo Total: %3.1f s\" % timeTotal)\n",
    "\n",
    "\n",
    "\n",
    "#    return max(best)\n",
    "    return resul\n"
   ]
  },
  {
   "cell_type": "markdown",
   "metadata": {},
   "source": [
    "## Decision Tree"
   ]
  },
  {
   "cell_type": "code",
   "execution_count": 6,
   "metadata": {
    "jupyter": {
     "source_hidden": true
    },
    "tags": []
   },
   "outputs": [],
   "source": [
    "def decTree(train, test, param):\n",
    "    \n",
    "    best = []\n",
    "\n",
    "    timeList = []\n",
    "    \n",
    "    resul = []\n",
    "\n",
    "    start_time_total =  time.time()\n",
    "    \n",
    "    for x in param.maxDepth:\n",
    "        for y in param.checkpointInterval:\n",
    "            \n",
    "            start_time =  time.time()\n",
    "\n",
    "    \n",
    "            trainer = DecisionTreeClassifier(featuresCol='features', labelCol='label', predictionCol='prediction', probabilityCol='probability',\\\n",
    "                                             rawPredictionCol='rawPrediction', maxDepth=x, maxBins=32, minInstancesPerNode=1, minInfoGain=0.0,\\\n",
    "                                             maxMemoryInMB=256, cacheNodeIds=False, checkpointInterval=y, impurity='gini', seed=None)\n",
    "\n",
    "\n",
    "            evaluator = MulticlassClassificationEvaluator(labelCol=\"label\", predictionCol=\"prediction\",\\\n",
    "                        metricName=\"accuracy\")\n",
    "\n",
    "            model = trainer.fit(train)\n",
    "\n",
    "            result_dt = model.transform(test)\n",
    "    \n",
    "            accuracy_dt = evaluator.evaluate(result_dt) * 100\n",
    "        \n",
    "            timeFinal = time.time() - start_time\n",
    "            \n",
    "            timeList.append(timeFinal)\n",
    "    \n",
    "            #print(\"Decision Tree: accuracy = %3.1f %%\" % accuracy_dt)\n",
    "        \n",
    "            print(\"Algorithm: decTree | Accuracy = %3.1f %% | Time = %3.1f s | maxDepth = %3.1f | checkpointInterval = %3.1f\" % (accuracy_dt, timeFinal, x, y))\n",
    "\n",
    "            # Matriz de Confusão\n",
    "            preds_and_labels = result_dt.select(['prediction','label']).withColumn('label', F.col('label').cast(FloatType())).orderBy('prediction')\n",
    "            preds_and_labels = preds_and_labels.select(['prediction','label'])\n",
    "            metrics = MulticlassMetrics(preds_and_labels.rdd.map(tuple))\n",
    "        \n",
    "        \n",
    "            prec = metrics.precision(1.0) *100\n",
    "            fp = metrics.falsePositiveRate(1.0)*100\n",
    "            rec =  metrics.recall(1.0) *100\n",
    "            \n",
    "            \n",
    "            resul.append(Resultados('dtree', accuracy_dt, timeFinal, prec, fp, rec, x, y))\n",
    "    \n",
    "    timeTotal = time.time() - start_time_total\n",
    "            \n",
    "    print(\"Tempo Médio: %3.1f s\" % (sum(timeList)/len(timeList)))\n",
    "    print(\"Tempo Total: %3.1f s\" % timeTotal)\n",
    "    \n",
    "    \n",
    "#    return accuracy_dt\n",
    "    return resul\n",
    "\n",
    "\n"
   ]
  },
  {
   "cell_type": "markdown",
   "metadata": {},
   "source": [
    "## Função que Executa Todos os Algoritmos de ML"
   ]
  },
  {
   "cell_type": "code",
   "execution_count": 7,
   "metadata": {
    "jupyter": {
     "source_hidden": true
    },
    "tags": []
   },
   "outputs": [],
   "source": [
    "def autoChoice(train, test, choice, naivep, svmp, dtreep):\n",
    "    \n",
    "    resul=[]\n",
    "    \n",
    "    \n",
    "    if choice == 'auto':\n",
    "        resul.append(Resultados('naive' ,naive(train, test, naivep)))\n",
    "        resul.append(Resultados('svm', svm(train, test, svmp)))\n",
    "        resul.append(Resultados('DecisionTree', decTree(train, test, dtreep)))\n",
    "        \n",
    "        resul.sort(key=lambda x: x.acuracia, reverse=True)\n",
    "        print(resul[0].algoritmo, resul[0].acuracia, sep =' ' )\n",
    "        \n",
    "        \n",
    "        \n",
    "    elif choice == 'naive':\n",
    "        return naive(train, test, naivep)\n",
    "        #print(\"A acurácia da Naive Bayes: %3.1f %%\" % naive(train, test, naivep))\n",
    "    elif choice == 'svm':\n",
    "        return svm(train, test, svmp)\n",
    "        #print(\"A acurácia da SVM: %3.1f %%\" % svm(train, test, svmp))\n",
    "    elif choice == 'tree':\n",
    "        return decTree(train, test, dtreep)\n",
    "        #print(\"A acurácia da Decision Tree: %3.1f %%\" % decTree(train, test, dtreep))\n",
    "    else:\n",
    "        print(\"Opção Inválida\")"
   ]
  },
  {
   "cell_type": "markdown",
   "metadata": {},
   "source": [
    "# Carregamento dos Dados"
   ]
  },
  {
   "cell_type": "code",
   "execution_count": 8,
   "metadata": {
    "jupyter": {
     "source_hidden": true
    },
    "tags": []
   },
   "outputs": [],
   "source": [
    "# Datasets Marcados com \"OK\", são os que já estão tratados e testados\n",
    "\n",
    "#orig_data = spark.read.format(\"csv\").options(sep=',',header='true',inferschema='true').\\\n",
    "#            load('/home/tiago/Mestrado/Dissertacao/dataset/iris.data')#OK\n",
    "\n",
    "#orig_data = spark.read.format(\"csv\").options(sep=',',header='true',inferschema='true').\\\n",
    "#            load('/home/tiago/Mestrado/Dissertacao/dataset/breast-cancer-wisconsin.data')#OK\n",
    "\n",
    "#orig_data = spark.read.format(\"csv\").options(sep=',',header='true',inferschema='true').\\\n",
    "#            load('/home/tiago/Mestrado/Dissertacao/dataset/glass.data') #OK\n",
    "\n",
    "#orig_data = spark.read.format(\"csv\").options(sep=',',header='true',inferschema='true').\\\n",
    "#            load('/home/tiago/Mestrado/Dissertacao/dataset/sonar.data')#OK\n",
    "\n",
    "orig_data = spark.read.format(\"csv\").options(sep=',',header='true',inferschema='true').\\\n",
    "            load('/home/tiago/Mestrado/Dissertacao/dataset/sonar.data')\n",
    "\n"
   ]
  },
  {
   "cell_type": "markdown",
   "metadata": {},
   "source": [
    "# Parâmetros"
   ]
  },
  {
   "cell_type": "code",
   "execution_count": 9,
   "metadata": {
    "tags": []
   },
   "outputs": [],
   "source": [
    "train_sample = 0.7\n",
    "test_sample = 0.3\n",
    "\n",
    "# 'auto'  = Testa tudo\n",
    "# 'tree'  = Decision Tree\n",
    "# 'naive' = Naive Bayes\n",
    "# 'svm'   = SVM\n",
    "choice = 'naive'\n",
    "\n",
    "# Parâmetros Naive\n",
    "# Nome = Smoothing\n",
    "#smoothing = [0.0, 0.1, 0.2, 0.3, 0.4, 0.5, 0.6, 0.7, 0.8, 0.9]\n",
    "smoothing = [round(x * 0.1, 1) for x in range(0, 100)]\n",
    "\n",
    "#smoothing = [1, 2, 3]\n",
    "naiveParam = Naive(smoothing)\n",
    "\n",
    "# Parâmetros SVM\n",
    "maxIter = [80,90,100]\n",
    "regParam = [0.1,0.2,0.3]\n",
    "svmParam = SVM(maxIter, regParam)\n",
    "\n",
    "# Parâmetros Decision Tree\n",
    "# Deapht / MaxIter\n",
    "maxDepth = [1,2,3,4,5]\n",
    "MaxIter = [10,15,20]\n",
    "dtreeParam = Tree(maxDepth, MaxIter)\n",
    "\n",
    "################\n",
    "\n",
    "\n",
    "#amostra = \"\"\n",
    "#execucao = \"dtree-MD-custom-30-40-CP-custom-15-30\""
   ]
  },
  {
   "cell_type": "markdown",
   "metadata": {},
   "source": [
    "# Pré-Processamento/Tratamento Padrão"
   ]
  },
  {
   "cell_type": "code",
   "execution_count": 10,
   "metadata": {
    "jupyter": {
     "source_hidden": true
    },
    "tags": []
   },
   "outputs": [],
   "source": [
    "indexer = StringIndexer(inputCol=\"class\", outputCol=\"label\").fit(orig_data)\n",
    "label_data = indexer.transform(orig_data)\n",
    "\n",
    "labelReverse = IndexToString().setInputCol(\"label\")\n",
    "\n",
    "label_data = label_data.drop(\"class\")\n",
    "\n",
    "ignore = ['label']\n",
    "list = [x for x in label_data.columns if x not in ignore]\n",
    "\n",
    "assembler = VectorAssembler(\n",
    "            inputCols=list,\n",
    "            outputCol='features')\n",
    "\n",
    "data = (assembler.transform(label_data).select(\"label\",\"features\"))\n"
   ]
  },
  {
   "cell_type": "markdown",
   "metadata": {},
   "source": [
    "# RandomSplit Train/Test"
   ]
  },
  {
   "cell_type": "code",
   "execution_count": 11,
   "metadata": {
    "tags": []
   },
   "outputs": [],
   "source": [
    "(train, test) = data.randomSplit([train_sample, test_sample], 1234)"
   ]
  },
  {
   "cell_type": "code",
   "execution_count": 12,
   "metadata": {
    "collapsed": true,
    "jupyter": {
     "outputs_hidden": true
    },
    "tags": []
   },
   "outputs": [
    {
     "name": "stdout",
     "output_type": "stream",
     "text": [
      "Algorithm: Naive Bayes | Accuracy = 72.2 % | Time = 3.1 s | Smoothing = 0.0\n",
      "Algorithm: Naive Bayes | Accuracy = 72.2 % | Time = 1.2 s | Smoothing = 0.1\n",
      "Algorithm: Naive Bayes | Accuracy = 72.2 % | Time = 1.1 s | Smoothing = 0.2\n",
      "Algorithm: Naive Bayes | Accuracy = 73.6 % | Time = 0.9 s | Smoothing = 0.3\n",
      "Algorithm: Naive Bayes | Accuracy = 73.6 % | Time = 0.8 s | Smoothing = 0.4\n",
      "Algorithm: Naive Bayes | Accuracy = 73.6 % | Time = 0.7 s | Smoothing = 0.5\n",
      "Algorithm: Naive Bayes | Accuracy = 73.6 % | Time = 0.7 s | Smoothing = 0.6\n",
      "Algorithm: Naive Bayes | Accuracy = 73.6 % | Time = 0.7 s | Smoothing = 0.7\n",
      "Algorithm: Naive Bayes | Accuracy = 73.6 % | Time = 0.7 s | Smoothing = 0.8\n",
      "Algorithm: Naive Bayes | Accuracy = 73.6 % | Time = 0.7 s | Smoothing = 0.9\n",
      "Algorithm: Naive Bayes | Accuracy = 75.0 % | Time = 0.7 s | Smoothing = 1.0\n",
      "Algorithm: Naive Bayes | Accuracy = 75.0 % | Time = 0.8 s | Smoothing = 1.1\n",
      "Algorithm: Naive Bayes | Accuracy = 76.4 % | Time = 0.6 s | Smoothing = 1.2\n",
      "Algorithm: Naive Bayes | Accuracy = 76.4 % | Time = 0.7 s | Smoothing = 1.3\n",
      "Algorithm: Naive Bayes | Accuracy = 76.4 % | Time = 0.7 s | Smoothing = 1.4\n",
      "Algorithm: Naive Bayes | Accuracy = 76.4 % | Time = 0.7 s | Smoothing = 1.5\n",
      "Algorithm: Naive Bayes | Accuracy = 76.4 % | Time = 0.6 s | Smoothing = 1.6\n",
      "Algorithm: Naive Bayes | Accuracy = 76.4 % | Time = 0.7 s | Smoothing = 1.7\n",
      "Algorithm: Naive Bayes | Accuracy = 76.4 % | Time = 0.6 s | Smoothing = 1.8\n",
      "Algorithm: Naive Bayes | Accuracy = 76.4 % | Time = 0.6 s | Smoothing = 1.9\n",
      "Algorithm: Naive Bayes | Accuracy = 76.4 % | Time = 0.6 s | Smoothing = 2.0\n",
      "Algorithm: Naive Bayes | Accuracy = 76.4 % | Time = 0.6 s | Smoothing = 2.1\n",
      "Algorithm: Naive Bayes | Accuracy = 76.4 % | Time = 0.7 s | Smoothing = 2.2\n",
      "Algorithm: Naive Bayes | Accuracy = 76.4 % | Time = 0.6 s | Smoothing = 2.3\n",
      "Algorithm: Naive Bayes | Accuracy = 76.4 % | Time = 0.6 s | Smoothing = 2.4\n",
      "Algorithm: Naive Bayes | Accuracy = 76.4 % | Time = 0.6 s | Smoothing = 2.5\n",
      "Algorithm: Naive Bayes | Accuracy = 76.4 % | Time = 0.7 s | Smoothing = 2.6\n",
      "Algorithm: Naive Bayes | Accuracy = 76.4 % | Time = 0.6 s | Smoothing = 2.7\n",
      "Algorithm: Naive Bayes | Accuracy = 77.8 % | Time = 0.6 s | Smoothing = 2.8\n",
      "Algorithm: Naive Bayes | Accuracy = 77.8 % | Time = 0.6 s | Smoothing = 2.9\n",
      "Algorithm: Naive Bayes | Accuracy = 77.8 % | Time = 0.6 s | Smoothing = 3.0\n",
      "Algorithm: Naive Bayes | Accuracy = 77.8 % | Time = 0.6 s | Smoothing = 3.1\n",
      "Algorithm: Naive Bayes | Accuracy = 77.8 % | Time = 0.6 s | Smoothing = 3.2\n",
      "Algorithm: Naive Bayes | Accuracy = 77.8 % | Time = 0.6 s | Smoothing = 3.3\n",
      "Algorithm: Naive Bayes | Accuracy = 77.8 % | Time = 0.6 s | Smoothing = 3.4\n",
      "Algorithm: Naive Bayes | Accuracy = 76.4 % | Time = 0.6 s | Smoothing = 3.5\n",
      "Algorithm: Naive Bayes | Accuracy = 76.4 % | Time = 0.6 s | Smoothing = 3.6\n",
      "Algorithm: Naive Bayes | Accuracy = 76.4 % | Time = 0.6 s | Smoothing = 3.7\n",
      "Algorithm: Naive Bayes | Accuracy = 76.4 % | Time = 0.6 s | Smoothing = 3.8\n",
      "Algorithm: Naive Bayes | Accuracy = 76.4 % | Time = 0.7 s | Smoothing = 3.9\n",
      "Algorithm: Naive Bayes | Accuracy = 76.4 % | Time = 0.5 s | Smoothing = 4.0\n",
      "Algorithm: Naive Bayes | Accuracy = 75.0 % | Time = 0.6 s | Smoothing = 4.1\n",
      "Algorithm: Naive Bayes | Accuracy = 75.0 % | Time = 0.6 s | Smoothing = 4.2\n",
      "Algorithm: Naive Bayes | Accuracy = 75.0 % | Time = 0.5 s | Smoothing = 4.3\n",
      "Algorithm: Naive Bayes | Accuracy = 75.0 % | Time = 0.6 s | Smoothing = 4.4\n",
      "Algorithm: Naive Bayes | Accuracy = 75.0 % | Time = 0.6 s | Smoothing = 4.5\n",
      "Algorithm: Naive Bayes | Accuracy = 75.0 % | Time = 0.6 s | Smoothing = 4.6\n",
      "Algorithm: Naive Bayes | Accuracy = 76.4 % | Time = 0.6 s | Smoothing = 4.7\n",
      "Algorithm: Naive Bayes | Accuracy = 76.4 % | Time = 0.6 s | Smoothing = 4.8\n",
      "Algorithm: Naive Bayes | Accuracy = 76.4 % | Time = 0.6 s | Smoothing = 4.9\n",
      "Algorithm: Naive Bayes | Accuracy = 76.4 % | Time = 0.7 s | Smoothing = 5.0\n",
      "Algorithm: Naive Bayes | Accuracy = 76.4 % | Time = 0.6 s | Smoothing = 5.1\n",
      "Algorithm: Naive Bayes | Accuracy = 76.4 % | Time = 0.5 s | Smoothing = 5.2\n",
      "Algorithm: Naive Bayes | Accuracy = 76.4 % | Time = 0.5 s | Smoothing = 5.3\n",
      "Algorithm: Naive Bayes | Accuracy = 76.4 % | Time = 0.5 s | Smoothing = 5.4\n",
      "Algorithm: Naive Bayes | Accuracy = 76.4 % | Time = 0.6 s | Smoothing = 5.5\n",
      "Algorithm: Naive Bayes | Accuracy = 73.6 % | Time = 0.5 s | Smoothing = 5.6\n",
      "Algorithm: Naive Bayes | Accuracy = 73.6 % | Time = 0.6 s | Smoothing = 5.7\n",
      "Algorithm: Naive Bayes | Accuracy = 73.6 % | Time = 0.6 s | Smoothing = 5.8\n",
      "Algorithm: Naive Bayes | Accuracy = 73.6 % | Time = 0.5 s | Smoothing = 5.9\n",
      "Algorithm: Naive Bayes | Accuracy = 73.6 % | Time = 0.5 s | Smoothing = 6.0\n",
      "Algorithm: Naive Bayes | Accuracy = 73.6 % | Time = 0.5 s | Smoothing = 6.1\n",
      "Algorithm: Naive Bayes | Accuracy = 73.6 % | Time = 0.5 s | Smoothing = 6.2\n",
      "Algorithm: Naive Bayes | Accuracy = 73.6 % | Time = 0.6 s | Smoothing = 6.3\n",
      "Algorithm: Naive Bayes | Accuracy = 73.6 % | Time = 0.5 s | Smoothing = 6.4\n",
      "Algorithm: Naive Bayes | Accuracy = 73.6 % | Time = 0.6 s | Smoothing = 6.5\n",
      "Algorithm: Naive Bayes | Accuracy = 73.6 % | Time = 0.6 s | Smoothing = 6.6\n",
      "Algorithm: Naive Bayes | Accuracy = 72.2 % | Time = 0.5 s | Smoothing = 6.7\n",
      "Algorithm: Naive Bayes | Accuracy = 72.2 % | Time = 0.6 s | Smoothing = 6.8\n",
      "Algorithm: Naive Bayes | Accuracy = 70.8 % | Time = 0.6 s | Smoothing = 6.9\n",
      "Algorithm: Naive Bayes | Accuracy = 70.8 % | Time = 0.5 s | Smoothing = 7.0\n",
      "Algorithm: Naive Bayes | Accuracy = 70.8 % | Time = 0.5 s | Smoothing = 7.1\n",
      "Algorithm: Naive Bayes | Accuracy = 70.8 % | Time = 0.5 s | Smoothing = 7.2\n",
      "Algorithm: Naive Bayes | Accuracy = 70.8 % | Time = 0.6 s | Smoothing = 7.3\n",
      "Algorithm: Naive Bayes | Accuracy = 70.8 % | Time = 0.6 s | Smoothing = 7.4\n",
      "Algorithm: Naive Bayes | Accuracy = 70.8 % | Time = 0.6 s | Smoothing = 7.5\n",
      "Algorithm: Naive Bayes | Accuracy = 70.8 % | Time = 0.6 s | Smoothing = 7.6\n",
      "Algorithm: Naive Bayes | Accuracy = 70.8 % | Time = 0.6 s | Smoothing = 7.7\n",
      "Algorithm: Naive Bayes | Accuracy = 69.4 % | Time = 0.6 s | Smoothing = 7.8\n",
      "Algorithm: Naive Bayes | Accuracy = 69.4 % | Time = 0.6 s | Smoothing = 7.9\n",
      "Algorithm: Naive Bayes | Accuracy = 68.1 % | Time = 0.6 s | Smoothing = 8.0\n",
      "Algorithm: Naive Bayes | Accuracy = 68.1 % | Time = 0.5 s | Smoothing = 8.1\n",
      "Algorithm: Naive Bayes | Accuracy = 68.1 % | Time = 0.6 s | Smoothing = 8.2\n",
      "Algorithm: Naive Bayes | Accuracy = 68.1 % | Time = 0.5 s | Smoothing = 8.3\n",
      "Algorithm: Naive Bayes | Accuracy = 68.1 % | Time = 0.5 s | Smoothing = 8.4\n",
      "Algorithm: Naive Bayes | Accuracy = 68.1 % | Time = 0.5 s | Smoothing = 8.5\n",
      "Algorithm: Naive Bayes | Accuracy = 68.1 % | Time = 0.5 s | Smoothing = 8.6\n",
      "Algorithm: Naive Bayes | Accuracy = 68.1 % | Time = 0.6 s | Smoothing = 8.7\n",
      "Algorithm: Naive Bayes | Accuracy = 69.4 % | Time = 0.6 s | Smoothing = 8.8\n",
      "Algorithm: Naive Bayes | Accuracy = 69.4 % | Time = 0.5 s | Smoothing = 8.9\n",
      "Algorithm: Naive Bayes | Accuracy = 69.4 % | Time = 0.6 s | Smoothing = 9.0\n",
      "Algorithm: Naive Bayes | Accuracy = 69.4 % | Time = 0.5 s | Smoothing = 9.1\n",
      "Algorithm: Naive Bayes | Accuracy = 69.4 % | Time = 0.5 s | Smoothing = 9.2\n",
      "Algorithm: Naive Bayes | Accuracy = 69.4 % | Time = 0.5 s | Smoothing = 9.3\n",
      "Algorithm: Naive Bayes | Accuracy = 69.4 % | Time = 0.5 s | Smoothing = 9.4\n",
      "Algorithm: Naive Bayes | Accuracy = 69.4 % | Time = 0.6 s | Smoothing = 9.5\n",
      "Algorithm: Naive Bayes | Accuracy = 69.4 % | Time = 0.6 s | Smoothing = 9.6\n",
      "Algorithm: Naive Bayes | Accuracy = 69.4 % | Time = 0.6 s | Smoothing = 9.7\n",
      "Algorithm: Naive Bayes | Accuracy = 69.4 % | Time = 0.6 s | Smoothing = 9.8\n",
      "Algorithm: Naive Bayes | Accuracy = 69.4 % | Time = 0.5 s | Smoothing = 9.9\n",
      "Tempo Médio: 0.6 s\n",
      "Tempo Total: 110.4 s\n"
     ]
    }
   ],
   "source": [
    "resul = []\n",
    "resul = autoChoice(train, test, choice, naiveParam, svmParam, dtreeParam)"
   ]
  },
  {
   "cell_type": "code",
   "execution_count": 13,
   "metadata": {},
   "outputs": [
    {
     "name": "stdout",
     "output_type": "stream",
     "text": [
      "Algorithm: naive | Accuracy = 77.8 % | Time = 0.6 s | Smoothing = 2.8\n",
      "Algorithm: naive | Accuracy = 77.8 % | Time = 0.6 s | Smoothing = 2.9\n",
      "Algorithm: naive | Accuracy = 77.8 % | Time = 0.6 s | Smoothing = 3.0\n",
      "Algorithm: naive | Accuracy = 77.8 % | Time = 0.6 s | Smoothing = 3.1\n",
      "Algorithm: naive | Accuracy = 77.8 % | Time = 0.6 s | Smoothing = 3.2\n"
     ]
    }
   ],
   "source": [
    "resul.sort(key=lambda x: x.acuracia, reverse=True)\n",
    "for i in range(5):\n",
    "    print(\"Algorithm: %s | Accuracy = %3.1f %% | Time = %3.1f s | Smoothing = %3.1f\" % (resul[i].algoritmo, resul[i].acuracia, resul[i].tempo, resul[i].parametroA))"
   ]
  },
  {
   "cell_type": "code",
   "execution_count": 14,
   "metadata": {},
   "outputs": [
    {
     "name": "stdout",
     "output_type": "stream",
     "text": [
      "81.48148148148148 12.82051282051282 66.66666666666666\n"
     ]
    }
   ],
   "source": [
    "print(resul[0].precisao, resul[0].fpositivos, resul[0].recall, sep =' ' )"
   ]
  },
  {
   "cell_type": "code",
   "execution_count": null,
   "metadata": {},
   "outputs": [],
   "source": []
  }
 ],
 "metadata": {
  "kernelspec": {
   "display_name": "Python 3",
   "language": "python",
   "name": "python3"
  },
  "language_info": {
   "codemirror_mode": {
    "name": "ipython",
    "version": 3
   },
   "file_extension": ".py",
   "mimetype": "text/x-python",
   "name": "python",
   "nbconvert_exporter": "python",
   "pygments_lexer": "ipython3",
   "version": "3.6.9"
  }
 },
 "nbformat": 4,
 "nbformat_minor": 4
}
