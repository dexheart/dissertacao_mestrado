{
 "cells": [
  {
   "cell_type": "markdown",
   "metadata": {},
   "source": [
    "# Fit-Spark Classification"
   ]
  },
  {
   "cell_type": "code",
   "execution_count": 1,
   "metadata": {
    "jupyter": {
     "source_hidden": true
    },
    "tags": []
   },
   "outputs": [],
   "source": [
    "## Spark Lib\n",
    "import findspark\n",
    "findspark.init()\n",
    "\n",
    "import pyspark\n",
    "from pyspark.sql import SparkSession\n",
    "from pyspark.ml import Pipeline\n",
    "from pyspark.ml.classification import DecisionTreeClassifier\n",
    "from pyspark.ml.feature import StringIndexer, VectorIndexer\n",
    "from pyspark.ml.evaluation import MulticlassClassificationEvaluator\n",
    "from pyspark.mllib.util import MLUtils\n",
    "\n",
    "from pyspark.ml.tuning import ParamGridBuilder, TrainValidationSplit\n",
    "from pyspark.ml.tuning import ParamGridBuilder, CrossValidator\n",
    "from pyspark.ml.evaluation import BinaryClassificationEvaluator\n",
    "from pyspark.mllib.evaluation import BinaryClassificationMetrics\n",
    "\n",
    "\n",
    "from pyspark.ml.feature import StringIndexer, IndexToString\n",
    "from pyspark.ml.feature import VectorAssembler, VectorIndexer\n",
    "from pyspark.ml.classification import MultilayerPerceptronClassifier\n",
    "from pyspark.ml.classification import NaiveBayes\n",
    "from pyspark.ml.classification import LogisticRegression\n",
    "from pyspark.ml.classification import LinearSVC, OneVsRest\n",
    "from pyspark.ml.classification import RandomForestClassifier\n",
    "from pyspark.ml.classification import DecisionTreeClassifier\n",
    "from pyspark.ml.evaluation import MulticlassClassificationEvaluator\n",
    "\n",
    "import matplotlib.pyplot as plt\n",
    "import seaborn as sns\n",
    "import numpy as np\n",
    "import pandas as pd\n",
    "\n",
    "\n",
    "\n",
    "import pyspark.sql.functions as F\n",
    "from pyspark.mllib.evaluation import MulticlassMetrics\n",
    "from pyspark.sql.types import FloatType\n",
    "\n",
    "from pyspark.ml.linalg import Vectors\n",
    "from pyspark.mllib.util import MLUtils\n",
    "\n",
    "\n",
    "import time\n",
    "start_time = time.time()\n",
    "%matplotlib inline"
   ]
  },
  {
   "cell_type": "markdown",
   "metadata": {},
   "source": [
    "# Spark Session"
   ]
  },
  {
   "cell_type": "code",
   "execution_count": 2,
   "metadata": {
    "tags": []
   },
   "outputs": [],
   "source": [
    "spark = SparkSession.builder \\\n",
    "        .master(\"local[*]\") \\\n",
    "        .appName(\"FitSpark\") \\\n",
    "        .getOrCreate()"
   ]
  },
  {
   "cell_type": "markdown",
   "metadata": {},
   "source": [
    "# Classes"
   ]
  },
  {
   "cell_type": "code",
   "execution_count": 3,
   "metadata": {
    "jupyter": {
     "source_hidden": true
    },
    "tags": []
   },
   "outputs": [],
   "source": [
    "class Resultados:\n",
    "    def __init__(self, algoritmo, acuracia, tempo, precisao, fpositivos, recall, parametroA, parametroB):\n",
    "        self.algoritmo = algoritmo \n",
    "        self.acuracia = acuracia\n",
    "        self.tempo = tempo\n",
    "        self.precisao = precisao\n",
    "        self.fpositivos = fpositivos\n",
    "        self.recall = recall\n",
    "        self.parametroA = parametroA\n",
    "        self.parametroB = parametroB\n",
    "        \n",
    "\n",
    "        \n",
    "        \n",
    "class Naive:\n",
    "    def __init__(self, smoothing):\n",
    "        self.smoothing = smoothing \n",
    "        \n",
    "class SVM:\n",
    "    def __init__(self, maxIter, regParam):\n",
    "        self.maxIter = maxIter \n",
    "        self.regParam = regParam\n",
    "        \n",
    "class Tree:\n",
    "    def __init__(self, maxDepth, maxBin):\n",
    "        self.maxDepth = maxDepth \n",
    "        self.maxBin = maxBin"
   ]
  },
  {
   "cell_type": "markdown",
   "metadata": {},
   "source": [
    "# Funções"
   ]
  },
  {
   "cell_type": "markdown",
   "metadata": {},
   "source": [
    "## Naive Bayes"
   ]
  },
  {
   "cell_type": "code",
   "execution_count": 4,
   "metadata": {
    "jupyter": {
     "source_hidden": true
    },
    "scrolled": true,
    "tags": []
   },
   "outputs": [],
   "source": [
    "def naive(train, test, param):\n",
    "    \n",
    "    best = []   # Lista do Melhor Resultado\n",
    "    timeList = [] # Lista do Tempo de Treinamento de cada Modelo\n",
    "    resul = [] # Lista de Todas informações na lista de Objetos\n",
    "    \n",
    "    start_time_total =  time.time()\n",
    "  \n",
    "    for x in param.smoothing:\n",
    "            \n",
    "        start_time =  time.time()\n",
    "        \n",
    "        # Define o Modelo \n",
    "        trainer = NaiveBayes(smoothing=x, modelType=\"multinomial\")    \n",
    "        evaluator = MulticlassClassificationEvaluator(labelCol=\"label\", predictionCol=\"prediction\",\\\n",
    "                metricName=\"accuracy\")\n",
    "        \n",
    "        # Realiza o Treinamento e Calcula Acuracia\n",
    "        model = trainer.fit(train)\n",
    "        result_nb = model.transform(test)\n",
    "        accuracy_nb = evaluator.evaluate(result_nb) * 100\n",
    "             \n",
    "        timeFinal = time.time() - start_time\n",
    "        timeList.append(timeFinal)\n",
    "        \n",
    "        print(\"Algorithm: Naive Bayes | Accuracy = %3.1f %% | Time = %3.1f s | Smoothing = %3.1f\" % (accuracy_nb, timeFinal, x))\n",
    "    \n",
    "        # Matriz de Confusão\n",
    "        preds_and_labels = result_nb.select(['prediction','label']).withColumn('label', F.col('label').cast(FloatType())).orderBy('prediction')\n",
    "        preds_and_labels = preds_and_labels.select(['prediction','label'])\n",
    "        metrics = MulticlassMetrics(preds_and_labels.rdd.map(tuple))\n",
    "        \n",
    "        \n",
    "        prec = metrics.precision(1.0) *100\n",
    "        fp = metrics.falsePositiveRate(1.0)*100\n",
    "        rec =  metrics.recall(1.0)*100\n",
    "        \n",
    "        resul.append(Resultados('naive', accuracy_nb, timeFinal, prec, fp, rec, x, None))\n",
    "        \n",
    "        best.append(accuracy_nb)\n",
    "    \n",
    "    \n",
    "    timeTotal = time.time() - start_time_total\n",
    "\n",
    "    print(\"Tempo Médio: %3.1f s\" % (sum(timeList)/len(timeList)))\n",
    "    print(\"Tempo Total: %3.1f s\" % timeTotal)\n",
    "  \n",
    "    return resul\n"
   ]
  },
  {
   "cell_type": "markdown",
   "metadata": {},
   "source": [
    "## SVM"
   ]
  },
  {
   "cell_type": "code",
   "execution_count": 5,
   "metadata": {
    "jupyter": {
     "source_hidden": true
    },
    "tags": []
   },
   "outputs": [],
   "source": [
    "def svm(train, test, param):\n",
    "    \n",
    "    best = []\n",
    "\n",
    "    timeList = []\n",
    "\n",
    "    resul = []\n",
    "\n",
    "    start_time_total =  time.time()\n",
    "    \n",
    "    for x in param.maxIter:\n",
    "        for y in param.regParam:\n",
    "            \n",
    "            start_time =  time.time()\n",
    "\n",
    "    \n",
    "            trainer = LinearSVC(featuresCol='features', labelCol='label',\\\n",
    "                            maxIter=x, regParam=y)\n",
    "\n",
    "            ovr_trainer = OneVsRest(classifier=trainer)\n",
    "\n",
    "\n",
    "            model = ovr_trainer.fit(train)\n",
    "\n",
    "            result_svm = model.transform(test)\n",
    "\n",
    "\n",
    "            evaluator = MulticlassClassificationEvaluator(labelCol=\"label\", predictionCol=\"prediction\",\\\n",
    "                    metricName=\"accuracy\")\n",
    "\n",
    "            accuracy_svm = evaluator.evaluate(result_svm) * 100\n",
    "            \n",
    "            timeFinal = time.time() - start_time\n",
    "\n",
    "            timeList.append(timeFinal)\n",
    "\n",
    "            print(\"Algorithm: SVM | Accuracy = %3.1f %% | Time = %3.1f s | maxIter = %3.1f | regParam = %3.1f\" % (accuracy_svm, timeFinal, x, y))\n",
    "\n",
    "            # Matriz de Confusão\n",
    "            preds_and_labels = result_svm.select(['prediction','label']).withColumn('label', F.col('label').cast(FloatType())).orderBy('prediction')\n",
    "            preds_and_labels = preds_and_labels.select(['prediction','label'])\n",
    "            metrics = MulticlassMetrics(preds_and_labels.rdd.map(tuple))\n",
    "        \n",
    "        \n",
    "            prec = metrics.precision(1.0) *100\n",
    "            fp = metrics.falsePositiveRate(1.0)*100\n",
    "            rec =  metrics.recall(1.0) *100\n",
    "            \n",
    "            \n",
    "            resul.append(Resultados('svm', accuracy_svm, timeFinal, prec, fp, rec, x, y))\n",
    "\n",
    "            \n",
    "            best.append(accuracy_svm)\n",
    "    \n",
    "    timeTotal = time.time() - start_time_total\n",
    "            \n",
    "    print(\"Tempo Médio: %3.1f s\" % (sum(timeList)/len(timeList)))\n",
    "    print(\"Tempo Total: %3.1f s\" % timeTotal)\n",
    "\n",
    "\n",
    "\n",
    "#    return max(best)\n",
    "    return resul\n"
   ]
  },
  {
   "cell_type": "markdown",
   "metadata": {},
   "source": [
    "## Decision Tree"
   ]
  },
  {
   "cell_type": "code",
   "execution_count": 6,
   "metadata": {
    "jupyter": {
     "source_hidden": true
    },
    "tags": []
   },
   "outputs": [],
   "source": [
    "def decTree(train, test, param):\n",
    "    \n",
    "    best = []\n",
    "\n",
    "    timeList = []\n",
    "    \n",
    "    resul = []\n",
    "\n",
    "    start_time_total =  time.time()\n",
    "    \n",
    "    for x in param.maxDepth:\n",
    "        for y in param.maxBin:\n",
    "            \n",
    "            start_time =  time.time()\n",
    "\n",
    "    \n",
    "            trainer = DecisionTreeClassifier(featuresCol='features', labelCol='label', predictionCol='prediction', probabilityCol='probability',\\\n",
    "                                             rawPredictionCol='rawPrediction', maxDepth=x, maxBins=y,\\\n",
    "                                             maxMemoryInMB=1024, cacheNodeIds=False, impurity='gini')\n",
    "\n",
    "\n",
    "            evaluator = MulticlassClassificationEvaluator(labelCol=\"label\", predictionCol=\"prediction\",\\\n",
    "                        metricName=\"accuracy\")\n",
    "\n",
    "            model = trainer.fit(train)\n",
    "\n",
    "            result_dt = model.transform(test)\n",
    "    \n",
    "            accuracy_dt = evaluator.evaluate(result_dt) * 100\n",
    "        \n",
    "            timeFinal = time.time() - start_time\n",
    "            \n",
    "            timeList.append(timeFinal)\n",
    "    \n",
    "            #print(\"Decision Tree: accuracy = %3.1f %%\" % accuracy_dt)\n",
    "        \n",
    "            print(\"Algorithm: decTree | Accuracy = %3.1f %% | Time = %3.1f s | maxDepth = %3.1f | maxBin = %3.1f\" % (accuracy_dt, timeFinal, x, y))\n",
    "\n",
    "            # Matriz de Confusão\n",
    "            preds_and_labels = result_dt.select(['prediction','label']).withColumn('label', F.col('label').cast(FloatType())).orderBy('prediction')\n",
    "            preds_and_labels = preds_and_labels.select(['prediction','label'])\n",
    "            metrics = MulticlassMetrics(preds_and_labels.rdd.map(tuple))\n",
    "        \n",
    "        \n",
    "            prec = metrics.precision(1.0) *100\n",
    "            fp = metrics.falsePositiveRate(1.0)*100\n",
    "            rec =  metrics.recall(1.0) *100\n",
    "            \n",
    "            \n",
    "            resul.append(Resultados('dtree', accuracy_dt, timeFinal, prec, fp, rec, x, y))\n",
    "    \n",
    "    timeTotal = time.time() - start_time_total\n",
    "            \n",
    "    print(\"Tempo Médio: %3.1f s\" % (sum(timeList)/len(timeList)))\n",
    "    print(\"Tempo Total: %3.1f s\" % timeTotal)\n",
    "    \n",
    "    \n",
    "#    return accuracy_dt\n",
    "    return resul\n",
    "\n",
    "\n"
   ]
  },
  {
   "cell_type": "markdown",
   "metadata": {},
   "source": [
    "## Função que Executa Todos os Algoritmos de ML"
   ]
  },
  {
   "cell_type": "code",
   "execution_count": 7,
   "metadata": {
    "jupyter": {
     "source_hidden": true
    },
    "tags": []
   },
   "outputs": [],
   "source": [
    "def autoChoice(train, test, choice, naivep, svmp, dtreep):\n",
    "    \n",
    "    resul=[]\n",
    "    \n",
    "    \n",
    "    if choice == 'auto':\n",
    "        resul.append(Resultados('naive' ,naive(train, test, naivep)))\n",
    "        resul.append(Resultados('svm', svm(train, test, svmp)))\n",
    "        resul.append(Resultados('DecisionTree', decTree(train, test, dtreep)))\n",
    "        \n",
    "        resul.sort(key=lambda x: x.acuracia, reverse=True)\n",
    "        print(resul[0].algoritmo, resul[0].acuracia, sep =' ' )\n",
    "        \n",
    "        \n",
    "        \n",
    "    elif choice == 'naive':\n",
    "        return naive(train, test, naivep)\n",
    "        #print(\"A acurácia da Naive Bayes: %3.1f %%\" % naive(train, test, naivep))\n",
    "    elif choice == 'svm':\n",
    "        return svm(train, test, svmp)\n",
    "        #print(\"A acurácia da SVM: %3.1f %%\" % svm(train, test, svmp))\n",
    "    elif choice == 'tree':\n",
    "        return decTree(train, test, dtreep)\n",
    "        #print(\"A acurácia da Decision Tree: %3.1f %%\" % decTree(train, test, dtreep))\n",
    "    else:\n",
    "        print(\"Opção Inválida\")"
   ]
  },
  {
   "cell_type": "markdown",
   "metadata": {},
   "source": [
    "## Função que Gera o Gráfico"
   ]
  },
  {
   "cell_type": "code",
   "execution_count": 8,
   "metadata": {
    "tags": []
   },
   "outputs": [],
   "source": [
    "def graphic(resul):\n",
    "\n",
    "    x=[]\n",
    "    y=[]\n",
    "\n",
    "    for i in range(0,len(resul)):\n",
    "        y.append(resul[i].acuracia)\n",
    "\n",
    "    for k in range(0,len(resul)):\n",
    "        x.append(resul[k].parametroA)\n",
    "\n",
    "    x = np.array(x)\n",
    "    #x = range(0,len(resul))\n",
    "    y = np.array(y)\n",
    "\n",
    "    #print(y)\n",
    "    \n",
    "    df=pd.DataFrame({'Smoothing': x, 'Accuracy %': y })\n",
    "\n",
    "    # Draw line chart with dashed line\n",
    "    plt.plot( 'Smoothing', 'Accuracy %', data=df, linestyle='solid')\n",
    "\n",
    "    plt.title(\"Iris Dataset\", loc=\"left\")\n",
    "    plt.xlabel(\"Smoothing\")\n",
    "    plt.ylabel(\"Accuracy %\")\n",
    "    #plt.savefig(\"figura-5.png\")\n",
    "\n",
    "    # Show graph\n",
    "    plt.show()"
   ]
  },
  {
   "cell_type": "markdown",
   "metadata": {},
   "source": [
    "# Carregamento dos Dados"
   ]
  },
  {
   "cell_type": "code",
   "execution_count": 9,
   "metadata": {
    "jupyter": {
     "source_hidden": true
    },
    "tags": []
   },
   "outputs": [],
   "source": [
    "# Datasets Marcados com \"OK\", são os que já estão tratados e testados\n",
    "\n",
    "orig_data = spark.read.format(\"csv\").options(sep=',',header='true',inferschema='true').\\\n",
    "            load('/home/tiago/Mestrado/Dissertacao/dataset/iris.data')#OK # Varia # Acuracia Maxima: 98%\n",
    "\n",
    "#orig_data = spark.read.format(\"csv\").options(sep=',',header='true',inferschema='true').\\\n",
    "#            load('/home/tiago/Mestrado/Dissertacao/dataset/glass.data') # OK # Varia # Acuracia Maxima: 80.5\n",
    "\n",
    "#orig_data = spark.read.format(\"csv\").options(sep=',',header='true',inferschema='true').\\\n",
    "#            load('/home/tiago/Mestrado/Dissertacao/dataset/sonar.data')#OK # Varia # Acuracia Maxima: 77.8\n",
    "\n",
    "#orig_data = spark.read.format(\"csv\").options(sep=',',header='true',inferschema='true').\\\n",
    "#            load('/home/tiago/Mestrado/Dissertacao/dataset/breast-cancer-wisconsin.data')#OK # Estatico\n",
    "\n",
    "#orig_data = spark.read.format(\"csv\").options(sep=',',header='true',inferschema='true').\\\n",
    "#            load('/home/tiago/Mestrado/Dissertacao/dataset/lymphography.data')#OK # Estatico\n",
    "\n",
    "#orig_data = spark.read.format(\"csv\").options(sep=',',header='true',inferschema='true').\\\n",
    "#            load('/home/tiago/Mestrado/Dissertacao/dataset/balance-scale.data')#OK # Estatico\n",
    "\n",
    "#orig_data = spark.read.format(\"csv\").options(sep=',',header='true',inferschema='true').\\\n",
    "#            load('/home/tiago/Mestrado/Dissertacao/dataset/balance-scale2.data')#OK # Estatico\n",
    "\n",
    "#orig_data = spark.read.format(\"csv\").options(sep=',',header='true',inferschema='true').\\\n",
    "#            load('/home/tiago/Mestrado/Dissertacao/dataset/ecoli.data')#\n",
    "\n",
    "orig_data = spark.read.format(\"csv\").options(sep=',',header='true',inferschema='true').\\\n",
    "            load('/home/tiago/Mestrado/Dissertacao/dataset/wine-white.data')#\n",
    "\n"
   ]
  },
  {
   "cell_type": "markdown",
   "metadata": {},
   "source": [
    "# Parâmetros"
   ]
  },
  {
   "cell_type": "code",
   "execution_count": 10,
   "metadata": {
    "jupyter": {
     "source_hidden": true
    },
    "tags": []
   },
   "outputs": [],
   "source": [
    "train_sample = 0.7\n",
    "test_sample = 0.3\n",
    "\n",
    "# 'auto'  = Testa tudo\n",
    "# 'tree'  = Decision Tree\n",
    "# 'naive' = Naive Bayes\n",
    "# 'svm'   = SVM\n",
    "choice = 'tree'\n",
    "\n",
    "# Parâmetros Naive\n",
    "# Nome = Smoothing\n",
    "#smoothing = [0.0, 0.1, 0.2, 0.3, 0.4, 0.5, 0.6, 0.7, 0.8, 0.9]\n",
    "smoothing = [round(x * 0.1, 1) for x in range(0, 100)]\n",
    "\n",
    "#smoothing = [1, 2, 3]\n",
    "naiveParam = Naive(smoothing)\n",
    "\n",
    "# Parâmetros SVM\n",
    "maxIter = [80,90,100]\n",
    "regParam = [0.1,0.2,0.3]\n",
    "svmParam = SVM(maxIter, regParam)\n",
    "\n",
    "# Parâmetros Decision Tree\n",
    "# Deapht / MaxIter\n",
    "maxDepth = [x for x in range(1, 31)]\n",
    "maxBin = [32,64,128,256,512,1024]\n",
    "dtreeParam = Tree(maxDepth, maxBin)\n",
    "\n",
    "################\n",
    "\n",
    "\n",
    "#amostra = \"\"\n",
    "#execucao = \"dtree-MD-custom-30-40-CP-custom-15-30\""
   ]
  },
  {
   "cell_type": "markdown",
   "metadata": {},
   "source": [
    "# Pré-Processamento/Tratamento Padrão"
   ]
  },
  {
   "cell_type": "code",
   "execution_count": 11,
   "metadata": {
    "jupyter": {
     "source_hidden": true
    },
    "tags": []
   },
   "outputs": [],
   "source": [
    "indexer = StringIndexer(inputCol=\"class\", outputCol=\"label\").fit(orig_data)\n",
    "label_data = indexer.transform(orig_data)\n",
    "\n",
    "labelReverse = IndexToString().setInputCol(\"label\")\n",
    "\n",
    "label_data = label_data.drop(\"class\")\n",
    "\n",
    "ignore = ['label']\n",
    "list = [x for x in label_data.columns if x not in ignore]\n",
    "\n",
    "assembler = VectorAssembler(\n",
    "            inputCols=list,\n",
    "            outputCol='features')\n",
    "\n",
    "data = (assembler.transform(label_data).select(\"label\",\"features\"))\n"
   ]
  },
  {
   "cell_type": "markdown",
   "metadata": {},
   "source": [
    "# RandomSplit Train/Test"
   ]
  },
  {
   "cell_type": "code",
   "execution_count": 12,
   "metadata": {
    "tags": []
   },
   "outputs": [],
   "source": [
    "(train, test) = data.randomSplit([train_sample, test_sample], 1234)"
   ]
  },
  {
   "cell_type": "code",
   "execution_count": 13,
   "metadata": {
    "tags": []
   },
   "outputs": [
    {
     "name": "stdout",
     "output_type": "stream",
     "text": [
      "Algorithm: decTree | Accuracy = 45.0 % | Time = 4.2 s | maxDepth = 1.0 | maxBin = 32.0\n",
      "Algorithm: decTree | Accuracy = 45.0 % | Time = 1.9 s | maxDepth = 1.0 | maxBin = 64.0\n",
      "Algorithm: decTree | Accuracy = 45.0 % | Time = 1.3 s | maxDepth = 1.0 | maxBin = 128.0\n",
      "Algorithm: decTree | Accuracy = 45.0 % | Time = 1.3 s | maxDepth = 1.0 | maxBin = 256.0\n",
      "Algorithm: decTree | Accuracy = 45.0 % | Time = 1.4 s | maxDepth = 1.0 | maxBin = 512.0\n",
      "Algorithm: decTree | Accuracy = 45.0 % | Time = 1.2 s | maxDepth = 1.0 | maxBin = 1024.0\n",
      "Algorithm: decTree | Accuracy = 50.3 % | Time = 1.1 s | maxDepth = 2.0 | maxBin = 32.0\n",
      "Algorithm: decTree | Accuracy = 51.3 % | Time = 1.2 s | maxDepth = 2.0 | maxBin = 64.0\n",
      "Algorithm: decTree | Accuracy = 51.3 % | Time = 1.2 s | maxDepth = 2.0 | maxBin = 128.0\n",
      "Algorithm: decTree | Accuracy = 51.3 % | Time = 1.1 s | maxDepth = 2.0 | maxBin = 256.0\n",
      "Algorithm: decTree | Accuracy = 51.3 % | Time = 1.1 s | maxDepth = 2.0 | maxBin = 512.0\n",
      "Algorithm: decTree | Accuracy = 51.3 % | Time = 1.0 s | maxDepth = 2.0 | maxBin = 1024.0\n",
      "Algorithm: decTree | Accuracy = 50.2 % | Time = 1.1 s | maxDepth = 3.0 | maxBin = 32.0\n",
      "Algorithm: decTree | Accuracy = 52.1 % | Time = 1.1 s | maxDepth = 3.0 | maxBin = 64.0\n",
      "Algorithm: decTree | Accuracy = 52.1 % | Time = 1.2 s | maxDepth = 3.0 | maxBin = 128.0\n",
      "Algorithm: decTree | Accuracy = 52.1 % | Time = 1.2 s | maxDepth = 3.0 | maxBin = 256.0\n",
      "Algorithm: decTree | Accuracy = 52.1 % | Time = 1.3 s | maxDepth = 3.0 | maxBin = 512.0\n",
      "Algorithm: decTree | Accuracy = 52.1 % | Time = 1.2 s | maxDepth = 3.0 | maxBin = 1024.0\n",
      "Algorithm: decTree | Accuracy = 50.5 % | Time = 1.1 s | maxDepth = 4.0 | maxBin = 32.0\n",
      "Algorithm: decTree | Accuracy = 51.9 % | Time = 1.2 s | maxDepth = 4.0 | maxBin = 64.0\n",
      "Algorithm: decTree | Accuracy = 52.2 % | Time = 1.1 s | maxDepth = 4.0 | maxBin = 128.0\n",
      "Algorithm: decTree | Accuracy = 52.2 % | Time = 1.2 s | maxDepth = 4.0 | maxBin = 256.0\n",
      "Algorithm: decTree | Accuracy = 52.2 % | Time = 1.2 s | maxDepth = 4.0 | maxBin = 512.0\n",
      "Algorithm: decTree | Accuracy = 52.2 % | Time = 1.2 s | maxDepth = 4.0 | maxBin = 1024.0\n",
      "Algorithm: decTree | Accuracy = 52.8 % | Time = 1.5 s | maxDepth = 5.0 | maxBin = 32.0\n",
      "Algorithm: decTree | Accuracy = 52.4 % | Time = 1.3 s | maxDepth = 5.0 | maxBin = 64.0\n",
      "Algorithm: decTree | Accuracy = 52.9 % | Time = 1.2 s | maxDepth = 5.0 | maxBin = 128.0\n",
      "Algorithm: decTree | Accuracy = 52.9 % | Time = 1.2 s | maxDepth = 5.0 | maxBin = 256.0\n",
      "Algorithm: decTree | Accuracy = 52.9 % | Time = 1.2 s | maxDepth = 5.0 | maxBin = 512.0\n",
      "Algorithm: decTree | Accuracy = 52.9 % | Time = 1.3 s | maxDepth = 5.0 | maxBin = 1024.0\n",
      "Algorithm: decTree | Accuracy = 52.5 % | Time = 1.5 s | maxDepth = 6.0 | maxBin = 32.0\n",
      "Algorithm: decTree | Accuracy = 53.1 % | Time = 1.6 s | maxDepth = 6.0 | maxBin = 64.0\n",
      "Algorithm: decTree | Accuracy = 52.5 % | Time = 1.4 s | maxDepth = 6.0 | maxBin = 128.0\n",
      "Algorithm: decTree | Accuracy = 52.5 % | Time = 1.4 s | maxDepth = 6.0 | maxBin = 256.0\n",
      "Algorithm: decTree | Accuracy = 52.4 % | Time = 1.3 s | maxDepth = 6.0 | maxBin = 512.0\n",
      "Algorithm: decTree | Accuracy = 52.4 % | Time = 1.4 s | maxDepth = 6.0 | maxBin = 1024.0\n",
      "Algorithm: decTree | Accuracy = 53.3 % | Time = 1.5 s | maxDepth = 7.0 | maxBin = 32.0\n",
      "Algorithm: decTree | Accuracy = 52.0 % | Time = 1.5 s | maxDepth = 7.0 | maxBin = 64.0\n",
      "Algorithm: decTree | Accuracy = 53.2 % | Time = 1.5 s | maxDepth = 7.0 | maxBin = 128.0\n",
      "Algorithm: decTree | Accuracy = 53.1 % | Time = 1.6 s | maxDepth = 7.0 | maxBin = 256.0\n",
      "Algorithm: decTree | Accuracy = 53.1 % | Time = 1.6 s | maxDepth = 7.0 | maxBin = 512.0\n",
      "Algorithm: decTree | Accuracy = 53.1 % | Time = 1.6 s | maxDepth = 7.0 | maxBin = 1024.0\n",
      "Algorithm: decTree | Accuracy = 54.3 % | Time = 1.8 s | maxDepth = 8.0 | maxBin = 32.0\n",
      "Algorithm: decTree | Accuracy = 53.1 % | Time = 1.8 s | maxDepth = 8.0 | maxBin = 64.0\n",
      "Algorithm: decTree | Accuracy = 53.1 % | Time = 1.8 s | maxDepth = 8.0 | maxBin = 128.0\n",
      "Algorithm: decTree | Accuracy = 53.1 % | Time = 1.9 s | maxDepth = 8.0 | maxBin = 256.0\n",
      "Algorithm: decTree | Accuracy = 52.8 % | Time = 1.9 s | maxDepth = 8.0 | maxBin = 512.0\n",
      "Algorithm: decTree | Accuracy = 52.7 % | Time = 1.9 s | maxDepth = 8.0 | maxBin = 1024.0\n",
      "Algorithm: decTree | Accuracy = 54.0 % | Time = 2.1 s | maxDepth = 9.0 | maxBin = 32.0\n",
      "Algorithm: decTree | Accuracy = 53.8 % | Time = 2.0 s | maxDepth = 9.0 | maxBin = 64.0\n",
      "Algorithm: decTree | Accuracy = 52.9 % | Time = 2.0 s | maxDepth = 9.0 | maxBin = 128.0\n",
      "Algorithm: decTree | Accuracy = 53.1 % | Time = 2.0 s | maxDepth = 9.0 | maxBin = 256.0\n",
      "Algorithm: decTree | Accuracy = 52.4 % | Time = 1.9 s | maxDepth = 9.0 | maxBin = 512.0\n",
      "Algorithm: decTree | Accuracy = 52.5 % | Time = 2.1 s | maxDepth = 9.0 | maxBin = 1024.0\n",
      "Algorithm: decTree | Accuracy = 54.4 % | Time = 2.3 s | maxDepth = 10.0 | maxBin = 32.0\n",
      "Algorithm: decTree | Accuracy = 54.1 % | Time = 2.4 s | maxDepth = 10.0 | maxBin = 64.0\n",
      "Algorithm: decTree | Accuracy = 53.4 % | Time = 2.2 s | maxDepth = 10.0 | maxBin = 128.0\n",
      "Algorithm: decTree | Accuracy = 54.0 % | Time = 2.3 s | maxDepth = 10.0 | maxBin = 256.0\n",
      "Algorithm: decTree | Accuracy = 53.5 % | Time = 2.3 s | maxDepth = 10.0 | maxBin = 512.0\n",
      "Algorithm: decTree | Accuracy = 53.6 % | Time = 2.4 s | maxDepth = 10.0 | maxBin = 1024.0\n",
      "Algorithm: decTree | Accuracy = 55.6 % | Time = 2.8 s | maxDepth = 11.0 | maxBin = 32.0\n",
      "Algorithm: decTree | Accuracy = 55.9 % | Time = 2.8 s | maxDepth = 11.0 | maxBin = 64.0\n",
      "Algorithm: decTree | Accuracy = 54.7 % | Time = 2.6 s | maxDepth = 11.0 | maxBin = 128.0\n",
      "Algorithm: decTree | Accuracy = 55.0 % | Time = 2.7 s | maxDepth = 11.0 | maxBin = 256.0\n",
      "Algorithm: decTree | Accuracy = 54.5 % | Time = 2.8 s | maxDepth = 11.0 | maxBin = 512.0\n",
      "Algorithm: decTree | Accuracy = 54.6 % | Time = 2.7 s | maxDepth = 11.0 | maxBin = 1024.0\n",
      "Algorithm: decTree | Accuracy = 57.1 % | Time = 3.2 s | maxDepth = 12.0 | maxBin = 32.0\n",
      "Algorithm: decTree | Accuracy = 56.5 % | Time = 2.9 s | maxDepth = 12.0 | maxBin = 64.0\n",
      "Algorithm: decTree | Accuracy = 55.9 % | Time = 2.9 s | maxDepth = 12.0 | maxBin = 128.0\n",
      "Algorithm: decTree | Accuracy = 55.9 % | Time = 3.0 s | maxDepth = 12.0 | maxBin = 256.0\n",
      "Algorithm: decTree | Accuracy = 55.6 % | Time = 3.1 s | maxDepth = 12.0 | maxBin = 512.0\n",
      "Algorithm: decTree | Accuracy = 55.7 % | Time = 3.0 s | maxDepth = 12.0 | maxBin = 1024.0\n",
      "Algorithm: decTree | Accuracy = 56.4 % | Time = 3.7 s | maxDepth = 13.0 | maxBin = 32.0\n",
      "Algorithm: decTree | Accuracy = 56.4 % | Time = 3.4 s | maxDepth = 13.0 | maxBin = 64.0\n",
      "Algorithm: decTree | Accuracy = 56.4 % | Time = 3.3 s | maxDepth = 13.0 | maxBin = 128.0\n",
      "Algorithm: decTree | Accuracy = 56.4 % | Time = 3.7 s | maxDepth = 13.0 | maxBin = 256.0\n",
      "Algorithm: decTree | Accuracy = 56.1 % | Time = 3.6 s | maxDepth = 13.0 | maxBin = 512.0\n",
      "Algorithm: decTree | Accuracy = 56.1 % | Time = 3.4 s | maxDepth = 13.0 | maxBin = 1024.0\n",
      "Algorithm: decTree | Accuracy = 56.9 % | Time = 4.3 s | maxDepth = 14.0 | maxBin = 32.0\n",
      "Algorithm: decTree | Accuracy = 57.3 % | Time = 4.0 s | maxDepth = 14.0 | maxBin = 64.0\n",
      "Algorithm: decTree | Accuracy = 57.0 % | Time = 3.9 s | maxDepth = 14.0 | maxBin = 128.0\n",
      "Algorithm: decTree | Accuracy = 56.6 % | Time = 4.2 s | maxDepth = 14.0 | maxBin = 256.0\n",
      "Algorithm: decTree | Accuracy = 56.7 % | Time = 4.1 s | maxDepth = 14.0 | maxBin = 512.0\n",
      "Algorithm: decTree | Accuracy = 56.8 % | Time = 4.0 s | maxDepth = 14.0 | maxBin = 1024.0\n",
      "Algorithm: decTree | Accuracy = 57.6 % | Time = 4.6 s | maxDepth = 15.0 | maxBin = 32.0\n",
      "Algorithm: decTree | Accuracy = 57.6 % | Time = 5.0 s | maxDepth = 15.0 | maxBin = 64.0\n",
      "Algorithm: decTree | Accuracy = 57.9 % | Time = 3.8 s | maxDepth = 15.0 | maxBin = 128.0\n",
      "Algorithm: decTree | Accuracy = 57.6 % | Time = 4.0 s | maxDepth = 15.0 | maxBin = 256.0\n",
      "Algorithm: decTree | Accuracy = 57.6 % | Time = 4.2 s | maxDepth = 15.0 | maxBin = 512.0\n",
      "Algorithm: decTree | Accuracy = 57.6 % | Time = 4.0 s | maxDepth = 15.0 | maxBin = 1024.0\n",
      "Algorithm: decTree | Accuracy = 57.6 % | Time = 4.5 s | maxDepth = 16.0 | maxBin = 32.0\n",
      "Algorithm: decTree | Accuracy = 57.5 % | Time = 4.3 s | maxDepth = 16.0 | maxBin = 64.0\n",
      "Algorithm: decTree | Accuracy = 57.5 % | Time = 4.3 s | maxDepth = 16.0 | maxBin = 128.0\n",
      "Algorithm: decTree | Accuracy = 57.6 % | Time = 4.6 s | maxDepth = 16.0 | maxBin = 256.0\n",
      "Algorithm: decTree | Accuracy = 57.5 % | Time = 4.5 s | maxDepth = 16.0 | maxBin = 512.0\n",
      "Algorithm: decTree | Accuracy = 57.4 % | Time = 4.8 s | maxDepth = 16.0 | maxBin = 1024.0\n",
      "Algorithm: decTree | Accuracy = 57.2 % | Time = 5.3 s | maxDepth = 17.0 | maxBin = 32.0\n",
      "Algorithm: decTree | Accuracy = 57.5 % | Time = 5.4 s | maxDepth = 17.0 | maxBin = 64.0\n",
      "Algorithm: decTree | Accuracy = 58.0 % | Time = 5.2 s | maxDepth = 17.0 | maxBin = 128.0\n",
      "Algorithm: decTree | Accuracy = 57.5 % | Time = 5.4 s | maxDepth = 17.0 | maxBin = 256.0\n",
      "Algorithm: decTree | Accuracy = 57.2 % | Time = 5.4 s | maxDepth = 17.0 | maxBin = 512.0\n",
      "Algorithm: decTree | Accuracy = 57.1 % | Time = 5.6 s | maxDepth = 17.0 | maxBin = 1024.0\n",
      "Algorithm: decTree | Accuracy = 58.0 % | Time = 6.2 s | maxDepth = 18.0 | maxBin = 32.0\n",
      "Algorithm: decTree | Accuracy = 57.9 % | Time = 6.0 s | maxDepth = 18.0 | maxBin = 64.0\n",
      "Algorithm: decTree | Accuracy = 58.1 % | Time = 6.3 s | maxDepth = 18.0 | maxBin = 128.0\n",
      "Algorithm: decTree | Accuracy = 57.9 % | Time = 6.1 s | maxDepth = 18.0 | maxBin = 256.0\n",
      "Algorithm: decTree | Accuracy = 57.7 % | Time = 6.0 s | maxDepth = 18.0 | maxBin = 512.0\n",
      "Algorithm: decTree | Accuracy = 57.6 % | Time = 6.3 s | maxDepth = 18.0 | maxBin = 1024.0\n",
      "Algorithm: decTree | Accuracy = 58.1 % | Time = 6.7 s | maxDepth = 19.0 | maxBin = 32.0\n",
      "Algorithm: decTree | Accuracy = 58.2 % | Time = 4.6 s | maxDepth = 19.0 | maxBin = 64.0\n",
      "Algorithm: decTree | Accuracy = 58.1 % | Time = 4.7 s | maxDepth = 19.0 | maxBin = 128.0\n",
      "Algorithm: decTree | Accuracy = 57.1 % | Time = 4.6 s | maxDepth = 19.0 | maxBin = 256.0\n",
      "Algorithm: decTree | Accuracy = 56.9 % | Time = 4.7 s | maxDepth = 19.0 | maxBin = 512.0\n",
      "Algorithm: decTree | Accuracy = 56.9 % | Time = 4.9 s | maxDepth = 19.0 | maxBin = 1024.0\n",
      "Algorithm: decTree | Accuracy = 58.3 % | Time = 5.1 s | maxDepth = 20.0 | maxBin = 32.0\n",
      "Algorithm: decTree | Accuracy = 58.0 % | Time = 5.1 s | maxDepth = 20.0 | maxBin = 64.0\n",
      "Algorithm: decTree | Accuracy = 58.3 % | Time = 5.2 s | maxDepth = 20.0 | maxBin = 128.0\n",
      "Algorithm: decTree | Accuracy = 57.2 % | Time = 5.3 s | maxDepth = 20.0 | maxBin = 256.0\n",
      "Algorithm: decTree | Accuracy = 57.1 % | Time = 5.3 s | maxDepth = 20.0 | maxBin = 512.0\n",
      "Algorithm: decTree | Accuracy = 57.0 % | Time = 5.7 s | maxDepth = 20.0 | maxBin = 1024.0\n",
      "Algorithm: decTree | Accuracy = 58.3 % | Time = 5.5 s | maxDepth = 21.0 | maxBin = 32.0\n",
      "Algorithm: decTree | Accuracy = 57.8 % | Time = 5.4 s | maxDepth = 21.0 | maxBin = 64.0\n",
      "Algorithm: decTree | Accuracy = 58.5 % | Time = 5.7 s | maxDepth = 21.0 | maxBin = 128.0\n",
      "Algorithm: decTree | Accuracy = 57.6 % | Time = 5.7 s | maxDepth = 21.0 | maxBin = 256.0\n",
      "Algorithm: decTree | Accuracy = 57.4 % | Time = 5.7 s | maxDepth = 21.0 | maxBin = 512.0\n",
      "Algorithm: decTree | Accuracy = 57.4 % | Time = 5.8 s | maxDepth = 21.0 | maxBin = 1024.0\n",
      "Algorithm: decTree | Accuracy = 58.3 % | Time = 5.8 s | maxDepth = 22.0 | maxBin = 32.0\n",
      "Algorithm: decTree | Accuracy = 57.9 % | Time = 5.9 s | maxDepth = 22.0 | maxBin = 64.0\n",
      "Algorithm: decTree | Accuracy = 58.6 % | Time = 6.1 s | maxDepth = 22.0 | maxBin = 128.0\n",
      "Algorithm: decTree | Accuracy = 57.8 % | Time = 6.0 s | maxDepth = 22.0 | maxBin = 256.0\n",
      "Algorithm: decTree | Accuracy = 57.7 % | Time = 6.2 s | maxDepth = 22.0 | maxBin = 512.0\n",
      "Algorithm: decTree | Accuracy = 57.6 % | Time = 6.7 s | maxDepth = 22.0 | maxBin = 1024.0\n",
      "Algorithm: decTree | Accuracy = 58.3 % | Time = 7.3 s | maxDepth = 23.0 | maxBin = 32.0\n",
      "Algorithm: decTree | Accuracy = 57.9 % | Time = 7.1 s | maxDepth = 23.0 | maxBin = 64.0\n",
      "Algorithm: decTree | Accuracy = 58.6 % | Time = 7.7 s | maxDepth = 23.0 | maxBin = 128.0\n",
      "Algorithm: decTree | Accuracy = 57.8 % | Time = 5.5 s | maxDepth = 23.0 | maxBin = 256.0\n",
      "Algorithm: decTree | Accuracy = 57.6 % | Time = 5.6 s | maxDepth = 23.0 | maxBin = 512.0\n",
      "Algorithm: decTree | Accuracy = 57.5 % | Time = 5.4 s | maxDepth = 23.0 | maxBin = 1024.0\n",
      "Algorithm: decTree | Accuracy = 58.3 % | Time = 5.5 s | maxDepth = 24.0 | maxBin = 32.0\n",
      "Algorithm: decTree | Accuracy = 57.9 % | Time = 5.4 s | maxDepth = 24.0 | maxBin = 64.0\n",
      "Algorithm: decTree | Accuracy = 58.6 % | Time = 5.5 s | maxDepth = 24.0 | maxBin = 128.0\n",
      "Algorithm: decTree | Accuracy = 57.8 % | Time = 5.7 s | maxDepth = 24.0 | maxBin = 256.0\n",
      "Algorithm: decTree | Accuracy = 57.7 % | Time = 5.7 s | maxDepth = 24.0 | maxBin = 512.0\n",
      "Algorithm: decTree | Accuracy = 57.6 % | Time = 5.9 s | maxDepth = 24.0 | maxBin = 1024.0\n",
      "Algorithm: decTree | Accuracy = 58.3 % | Time = 5.7 s | maxDepth = 25.0 | maxBin = 32.0\n",
      "Algorithm: decTree | Accuracy = 57.9 % | Time = 5.7 s | maxDepth = 25.0 | maxBin = 64.0\n",
      "Algorithm: decTree | Accuracy = 58.6 % | Time = 5.8 s | maxDepth = 25.0 | maxBin = 128.0\n",
      "Algorithm: decTree | Accuracy = 57.9 % | Time = 6.1 s | maxDepth = 25.0 | maxBin = 256.0\n",
      "Algorithm: decTree | Accuracy = 57.8 % | Time = 6.2 s | maxDepth = 25.0 | maxBin = 512.0\n",
      "Algorithm: decTree | Accuracy = 57.6 % | Time = 6.3 s | maxDepth = 25.0 | maxBin = 1024.0\n",
      "Algorithm: decTree | Accuracy = 58.3 % | Time = 6.1 s | maxDepth = 26.0 | maxBin = 32.0\n",
      "Algorithm: decTree | Accuracy = 57.9 % | Time = 6.2 s | maxDepth = 26.0 | maxBin = 64.0\n",
      "Algorithm: decTree | Accuracy = 58.6 % | Time = 6.2 s | maxDepth = 26.0 | maxBin = 128.0\n",
      "Algorithm: decTree | Accuracy = 57.9 % | Time = 6.4 s | maxDepth = 26.0 | maxBin = 256.0\n",
      "Algorithm: decTree | Accuracy = 57.8 % | Time = 6.4 s | maxDepth = 26.0 | maxBin = 512.0\n",
      "Algorithm: decTree | Accuracy = 57.6 % | Time = 6.4 s | maxDepth = 26.0 | maxBin = 1024.0\n",
      "Algorithm: decTree | Accuracy = 58.3 % | Time = 6.6 s | maxDepth = 27.0 | maxBin = 32.0\n",
      "Algorithm: decTree | Accuracy = 57.9 % | Time = 6.2 s | maxDepth = 27.0 | maxBin = 64.0\n",
      "Algorithm: decTree | Accuracy = 58.6 % | Time = 6.5 s | maxDepth = 27.0 | maxBin = 128.0\n",
      "Algorithm: decTree | Accuracy = 57.9 % | Time = 7.6 s | maxDepth = 27.0 | maxBin = 256.0\n",
      "Algorithm: decTree | Accuracy = 57.8 % | Time = 7.6 s | maxDepth = 27.0 | maxBin = 512.0\n",
      "Algorithm: decTree | Accuracy = 57.6 % | Time = 7.6 s | maxDepth = 27.0 | maxBin = 1024.0\n",
      "Algorithm: decTree | Accuracy = 58.3 % | Time = 7.9 s | maxDepth = 28.0 | maxBin = 32.0\n",
      "Algorithm: decTree | Accuracy = 57.9 % | Time = 8.3 s | maxDepth = 28.0 | maxBin = 64.0\n",
      "Algorithm: decTree | Accuracy = 58.6 % | Time = 5.4 s | maxDepth = 28.0 | maxBin = 128.0\n",
      "Algorithm: decTree | Accuracy = 57.9 % | Time = 5.5 s | maxDepth = 28.0 | maxBin = 256.0\n",
      "Algorithm: decTree | Accuracy = 57.8 % | Time = 5.6 s | maxDepth = 28.0 | maxBin = 512.0\n",
      "Algorithm: decTree | Accuracy = 57.6 % | Time = 5.5 s | maxDepth = 28.0 | maxBin = 1024.0\n",
      "Algorithm: decTree | Accuracy = 58.3 % | Time = 5.4 s | maxDepth = 29.0 | maxBin = 32.0\n",
      "Algorithm: decTree | Accuracy = 57.9 % | Time = 5.2 s | maxDepth = 29.0 | maxBin = 64.0\n",
      "Algorithm: decTree | Accuracy = 58.6 % | Time = 5.5 s | maxDepth = 29.0 | maxBin = 128.0\n",
      "Algorithm: decTree | Accuracy = 57.9 % | Time = 5.7 s | maxDepth = 29.0 | maxBin = 256.0\n",
      "Algorithm: decTree | Accuracy = 57.8 % | Time = 5.9 s | maxDepth = 29.0 | maxBin = 512.0\n",
      "Algorithm: decTree | Accuracy = 57.6 % | Time = 5.8 s | maxDepth = 29.0 | maxBin = 1024.0\n",
      "Algorithm: decTree | Accuracy = 58.3 % | Time = 5.8 s | maxDepth = 30.0 | maxBin = 32.0\n",
      "Algorithm: decTree | Accuracy = 57.9 % | Time = 5.7 s | maxDepth = 30.0 | maxBin = 64.0\n",
      "Algorithm: decTree | Accuracy = 58.6 % | Time = 5.8 s | maxDepth = 30.0 | maxBin = 128.0\n",
      "Algorithm: decTree | Accuracy = 57.9 % | Time = 6.0 s | maxDepth = 30.0 | maxBin = 256.0\n",
      "Algorithm: decTree | Accuracy = 57.8 % | Time = 6.2 s | maxDepth = 30.0 | maxBin = 512.0\n",
      "Algorithm: decTree | Accuracy = 57.6 % | Time = 6.3 s | maxDepth = 30.0 | maxBin = 1024.0\n",
      "Tempo Médio: 4.0 s\n",
      "Tempo Total: 821.6 s\n"
     ]
    }
   ],
   "source": [
    "resul = []\n",
    "resul = autoChoice(train, test, choice, naiveParam, svmParam, dtreeParam)"
   ]
  },
  {
   "cell_type": "code",
   "execution_count": 14,
   "metadata": {
    "tags": []
   },
   "outputs": [
    {
     "data": {
      "image/png": "[encoded data removed]",
      "text/plain": [
       "<Figure size 432x288 with 1 Axes>"
      ]
     },
     "metadata": {
      "needs_background": "light"
     },
     "output_type": "display_data"
    }
   ],
   "source": [
    "graphic(resul)"
   ]
  },
  {
   "cell_type": "code",
   "execution_count": 15,
   "metadata": {
    "jupyter": {
     "source_hidden": true
    },
    "tags": []
   },
   "outputs": [
    {
     "name": "stdout",
     "output_type": "stream",
     "text": [
      "Algorithm: dtree | Accuracy = 58.6 % | Time = 6.1 s | Smoothing = 22.0\n",
      "Algorithm: dtree | Accuracy = 58.6 % | Time = 7.7 s | Smoothing = 23.0\n",
      "Algorithm: dtree | Accuracy = 58.6 % | Time = 5.5 s | Smoothing = 24.0\n",
      "Algorithm: dtree | Accuracy = 58.6 % | Time = 5.8 s | Smoothing = 25.0\n",
      "Algorithm: dtree | Accuracy = 58.6 % | Time = 6.2 s | Smoothing = 26.0\n",
      "Algorithm: dtree | Accuracy = 58.6 % | Time = 6.5 s | Smoothing = 27.0\n",
      "Algorithm: dtree | Accuracy = 58.6 % | Time = 5.4 s | Smoothing = 28.0\n",
      "Algorithm: dtree | Accuracy = 58.6 % | Time = 5.5 s | Smoothing = 29.0\n",
      "Algorithm: dtree | Accuracy = 58.6 % | Time = 5.8 s | Smoothing = 30.0\n",
      "Algorithm: dtree | Accuracy = 58.5 % | Time = 5.7 s | Smoothing = 21.0\n"
     ]
    }
   ],
   "source": [
    "# Exibe os Melhores Resultados em Ordem Decrescente\n",
    "resul.sort(key=lambda x: x.acuracia, reverse=True)\n",
    "for i in range(10):\n",
    "    print(\"Algorithm: %s | Accuracy = %3.1f %% | Time = %3.1f s | Smoothing = %3.1f\" % (resul[i].algoritmo, resul[i].acuracia, resul[i].tempo, resul[i].parametroA))"
   ]
  },
  {
   "cell_type": "code",
   "execution_count": 16,
   "metadata": {},
   "outputs": [
    {
     "name": "stdout",
     "output_type": "stream",
     "text": [
      "Algorithm: dtree | Precisão = 60.0 % | False Positive = 16.2 % | Recall = 59.2 %\n"
     ]
    }
   ],
   "source": [
    "# Imprime Outros Resultados do Melhor Modelo\n",
    "print(\"Algorithm: %s | Precisão = %3.1f %% | False Positive = %3.1f %% | Recall = %3.1f %%\" % (resul[0].algoritmo, resul[0].precisao, resul[0].fpositivos, resul[0].recall))"
   ]
  },
  {
   "cell_type": "code",
   "execution_count": null,
   "metadata": {},
   "outputs": [],
   "source": []
  }
 ],
 "metadata": {
  "kernelspec": {
   "display_name": "Python 3",
   "language": "python",
   "name": "python3"
  },
  "language_info": {
   "codemirror_mode": {
    "name": "ipython",
    "version": 3
   },
   "file_extension": ".py",
   "mimetype": "text/x-python",
   "name": "python",
   "nbconvert_exporter": "python",
   "pygments_lexer": "ipython3",
   "version": "3.6.9"
  }
 },
 "nbformat": 4,
 "nbformat_minor": 4
}
